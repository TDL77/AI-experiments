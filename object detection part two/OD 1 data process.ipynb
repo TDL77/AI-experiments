{
 "cells": [
  {
   "cell_type": "code",
   "execution_count": 5,
   "id": "d562d6a6",
   "metadata": {},
   "outputs": [
    {
     "name": "stdout",
     "output_type": "stream",
     "text": [
      "Requirement already satisfied: pyqt5 in c:\\users\\user\\.conda\\envs\\gpu\\lib\\site-packages (5.15.9)\n",
      "Requirement already satisfied: lxml in c:\\users\\user\\.conda\\envs\\gpu\\lib\\site-packages (4.9.3)\n",
      "Requirement already satisfied: PyQt5-sip<13,>=12.11 in c:\\users\\user\\.conda\\envs\\gpu\\lib\\site-packages (from pyqt5) (12.12.2)\n",
      "Requirement already satisfied: PyQt5-Qt5>=5.15.2 in c:\\users\\user\\.conda\\envs\\gpu\\lib\\site-packages (from pyqt5) (5.15.2)\n"
     ]
    },
    {
     "name": "stderr",
     "output_type": "stream",
     "text": [
      "Cloning into 'krasnoteh_OD\\labelimg'...\n"
     ]
    }
   ],
   "source": [
    "#поставим lablelimg\n",
    "#должен быть скачан git\n",
    "#https://gitforwindows.org/\n",
    "\n",
    "import os\n",
    "!pip install pyqt5 lxml\n",
    "LABELIMG_PATH = os.path.join(\"krasnoteh_OD\", \"labelimg\")\n",
    "if not os.path.exists(LABELIMG_PATH):\n",
    "    !mkdir {LABELIMG_PATH}\n",
    "    !git clone https://github.com/tzutalin/labelImg {LABELIMG_PATH}\n",
    "    if os.name == 'posix':\n",
    "        !make qt5py3\n",
    "    if os.name =='nt':\n",
    "        !cd {LABELIMG_PATH} && pyrcc5 -o libs/resources.py resources.qrc"
   ]
  },
  {
   "cell_type": "code",
   "execution_count": 6,
   "id": "7fd261c7",
   "metadata": {},
   "outputs": [
    {
     "name": "stdout",
     "output_type": "stream",
     "text": [
      "Image:C:\\Users\\user\\AI tests\\krasnoteh_OD\\images\\IMG_20230812_135652.jpg -> Annotation:C:/Users/user/AI tests/krasnoteh_OD/images\\IMG_20230812_135652.xml\n",
      "Cancel creation.\n",
      "Image:C:\\Users\\user\\AI tests\\krasnoteh_OD\\images\\IMG_20230812_135654.jpg -> Annotation:C:/Users/user/AI tests/krasnoteh_OD/images\\IMG_20230812_135654.xml\n",
      "Image:C:\\Users\\user\\AI tests\\krasnoteh_OD\\images\\IMG_20230812_135750.jpg -> Annotation:C:/Users/user/AI tests/krasnoteh_OD/images\\IMG_20230812_135750.xml\n",
      "Image:C:\\Users\\user\\AI tests\\krasnoteh_OD\\images\\IMG_20230812_135826.jpg -> Annotation:C:/Users/user/AI tests/krasnoteh_OD/images\\IMG_20230812_135826.xml\n",
      "Image:C:\\Users\\user\\AI tests\\krasnoteh_OD\\images\\IMG_20230812_135829.jpg -> Annotation:C:/Users/user/AI tests/krasnoteh_OD/images\\IMG_20230812_135829.xml\n",
      "Image:C:\\Users\\user\\AI tests\\krasnoteh_OD\\images\\IMG_20230812_135832.jpg -> Annotation:C:/Users/user/AI tests/krasnoteh_OD/images\\IMG_20230812_135832.xml\n",
      "Image:C:\\Users\\user\\AI tests\\krasnoteh_OD\\images\\IMG_20230812_135837.jpg -> Annotation:C:/Users/user/AI tests/krasnoteh_OD/images\\IMG_20230812_135837.xml\n",
      "Image:C:\\Users\\user\\AI tests\\krasnoteh_OD\\images\\IMG_20230812_135840.jpg -> Annotation:C:/Users/user/AI tests/krasnoteh_OD/images\\IMG_20230812_135840.xml\n",
      "Image:C:\\Users\\user\\AI tests\\krasnoteh_OD\\images\\IMG_20230812_135842.jpg -> Annotation:C:/Users/user/AI tests/krasnoteh_OD/images\\IMG_20230812_135842.xml\n",
      "Image:C:\\Users\\user\\AI tests\\krasnoteh_OD\\images\\IMG_20230812_135844.jpg -> Annotation:C:/Users/user/AI tests/krasnoteh_OD/images\\IMG_20230812_135844.xml\n",
      "Image:C:\\Users\\user\\AI tests\\krasnoteh_OD\\images\\IMG_20230812_135856.jpg -> Annotation:C:/Users/user/AI tests/krasnoteh_OD/images\\IMG_20230812_135856.xml\n",
      "Image:C:\\Users\\user\\AI tests\\krasnoteh_OD\\images\\IMG_20230812_135902.jpg -> Annotation:C:/Users/user/AI tests/krasnoteh_OD/images\\IMG_20230812_135902.xml\n",
      "Image:C:\\Users\\user\\AI tests\\krasnoteh_OD\\images\\IMG_20230812_135904.jpg -> Annotation:C:/Users/user/AI tests/krasnoteh_OD/images\\IMG_20230812_135904.xml\n",
      "Image:C:\\Users\\user\\AI tests\\krasnoteh_OD\\images\\IMG_20230812_135908.jpg -> Annotation:C:/Users/user/AI tests/krasnoteh_OD/images\\IMG_20230812_135908.xml\n",
      "Image:C:\\Users\\user\\AI tests\\krasnoteh_OD\\images\\IMG_20230812_135915.jpg -> Annotation:C:/Users/user/AI tests/krasnoteh_OD/images\\IMG_20230812_135915.xml\n",
      "Image:C:\\Users\\user\\AI tests\\krasnoteh_OD\\images\\IMG_20230812_135920.jpg -> Annotation:C:/Users/user/AI tests/krasnoteh_OD/images\\IMG_20230812_135920.xml\n",
      "Image:C:\\Users\\user\\AI tests\\krasnoteh_OD\\images\\IMG_20230812_135923.jpg -> Annotation:C:/Users/user/AI tests/krasnoteh_OD/images\\IMG_20230812_135923.xml\n",
      "Image:C:\\Users\\user\\AI tests\\krasnoteh_OD\\images\\IMG_20230812_135928.jpg -> Annotation:C:/Users/user/AI tests/krasnoteh_OD/images\\IMG_20230812_135928.xml\n",
      "Image:C:\\Users\\user\\AI tests\\krasnoteh_OD\\images\\IMG_20230812_135931.jpg -> Annotation:C:/Users/user/AI tests/krasnoteh_OD/images\\IMG_20230812_135931.xml\n",
      "Image:C:\\Users\\user\\AI tests\\krasnoteh_OD\\images\\IMG_20230812_135934.jpg -> Annotation:C:/Users/user/AI tests/krasnoteh_OD/images\\IMG_20230812_135934.xml\n",
      "Image:C:\\Users\\user\\AI tests\\krasnoteh_OD\\images\\IMG_20230812_135942.jpg -> Annotation:C:/Users/user/AI tests/krasnoteh_OD/images\\IMG_20230812_135942.xml\n",
      "Image:C:\\Users\\user\\AI tests\\krasnoteh_OD\\images\\IMG_20230812_135948.jpg -> Annotation:C:/Users/user/AI tests/krasnoteh_OD/images\\IMG_20230812_135948.xml\n",
      "Image:C:\\Users\\user\\AI tests\\krasnoteh_OD\\images\\IMG_20230812_135951.jpg -> Annotation:C:/Users/user/AI tests/krasnoteh_OD/images\\IMG_20230812_135951.xml\n",
      "Image:C:\\Users\\user\\AI tests\\krasnoteh_OD\\images\\IMG_20230812_135952.jpg -> Annotation:C:/Users/user/AI tests/krasnoteh_OD/images\\IMG_20230812_135952.xml\n",
      "Image:C:\\Users\\user\\AI tests\\krasnoteh_OD\\images\\IMG_20230812_135958.jpg -> Annotation:C:/Users/user/AI tests/krasnoteh_OD/images\\IMG_20230812_135958.xml\n",
      "Image:C:\\Users\\user\\AI tests\\krasnoteh_OD\\images\\IMG_20230812_140000.jpg -> Annotation:C:/Users/user/AI tests/krasnoteh_OD/images\\IMG_20230812_140000.xml\n",
      "Image:C:\\Users\\user\\AI tests\\krasnoteh_OD\\images\\IMG_20230812_140005.jpg -> Annotation:C:/Users/user/AI tests/krasnoteh_OD/images\\IMG_20230812_140005.xml\n",
      "Image:C:\\Users\\user\\AI tests\\krasnoteh_OD\\images\\IMG_20230812_140011.jpg -> Annotation:C:/Users/user/AI tests/krasnoteh_OD/images\\IMG_20230812_140011.xml\n",
      "Image:C:\\Users\\user\\AI tests\\krasnoteh_OD\\images\\IMG_20230812_140016.jpg -> Annotation:C:/Users/user/AI tests/krasnoteh_OD/images\\IMG_20230812_140016.xml\n",
      "Image:C:\\Users\\user\\AI tests\\krasnoteh_OD\\images\\IMG_20230812_140018.jpg -> Annotation:C:/Users/user/AI tests/krasnoteh_OD/images\\IMG_20230812_140018.xml\n",
      "Image:C:\\Users\\user\\AI tests\\krasnoteh_OD\\images\\IMG_20230812_140022.jpg -> Annotation:C:/Users/user/AI tests/krasnoteh_OD/images\\IMG_20230812_140022.xml\n",
      "Image:C:\\Users\\user\\AI tests\\krasnoteh_OD\\images\\IMG_20230812_140026.jpg -> Annotation:C:/Users/user/AI tests/krasnoteh_OD/images\\IMG_20230812_140026.xml\n",
      "Image:C:\\Users\\user\\AI tests\\krasnoteh_OD\\images\\IMG_20230812_140031.jpg -> Annotation:C:/Users/user/AI tests/krasnoteh_OD/images\\IMG_20230812_140031.xml\n",
      "Image:C:\\Users\\user\\AI tests\\krasnoteh_OD\\images\\IMG_20230812_140037.jpg -> Annotation:C:/Users/user/AI tests/krasnoteh_OD/images\\IMG_20230812_140037.xml\n",
      "Image:C:\\Users\\user\\AI tests\\krasnoteh_OD\\images\\IMG_20230812_140043.jpg -> Annotation:C:/Users/user/AI tests/krasnoteh_OD/images\\IMG_20230812_140043.xml\n",
      "Image:C:\\Users\\user\\AI tests\\krasnoteh_OD\\images\\IMG_20230812_140046.jpg -> Annotation:C:/Users/user/AI tests/krasnoteh_OD/images\\IMG_20230812_140046.xml\n",
      "Image:C:\\Users\\user\\AI tests\\krasnoteh_OD\\images\\IMG_20230812_140048.jpg -> Annotation:C:/Users/user/AI tests/krasnoteh_OD/images\\IMG_20230812_140048.xml\n",
      "Image:C:\\Users\\user\\AI tests\\krasnoteh_OD\\images\\IMG_20230812_140058.jpg -> Annotation:C:/Users/user/AI tests/krasnoteh_OD/images\\IMG_20230812_140058.xml\n",
      "Image:C:\\Users\\user\\AI tests\\krasnoteh_OD\\images\\IMG_20230812_140101.jpg -> Annotation:C:/Users/user/AI tests/krasnoteh_OD/images\\IMG_20230812_140101.xml\n",
      "Image:C:\\Users\\user\\AI tests\\krasnoteh_OD\\images\\IMG_20230812_140107.jpg -> Annotation:C:/Users/user/AI tests/krasnoteh_OD/images\\IMG_20230812_140107.xml\n",
      "Image:C:\\Users\\user\\AI tests\\krasnoteh_OD\\images\\IMG_20230812_140112.jpg -> Annotation:C:/Users/user/AI tests/krasnoteh_OD/images\\IMG_20230812_140112.xml\n",
      "Image:C:\\Users\\user\\AI tests\\krasnoteh_OD\\images\\IMG_20230812_140115.jpg -> Annotation:C:/Users/user/AI tests/krasnoteh_OD/images\\IMG_20230812_140115.xml\n",
      "Image:C:\\Users\\user\\AI tests\\krasnoteh_OD\\images\\IMG_20230812_140118.jpg -> Annotation:C:/Users/user/AI tests/krasnoteh_OD/images\\IMG_20230812_140118.xml\n",
      "Image:C:\\Users\\user\\AI tests\\krasnoteh_OD\\images\\IMG_20230812_140130.jpg -> Annotation:C:/Users/user/AI tests/krasnoteh_OD/images\\IMG_20230812_140130.xml\n",
      "Image:C:\\Users\\user\\AI tests\\krasnoteh_OD\\images\\IMG_20230812_140133.jpg -> Annotation:C:/Users/user/AI tests/krasnoteh_OD/images\\IMG_20230812_140133.xml\n",
      "Image:C:\\Users\\user\\AI tests\\krasnoteh_OD\\images\\IMG_20230812_140140.jpg -> Annotation:C:/Users/user/AI tests/krasnoteh_OD/images\\IMG_20230812_140140.xml\n",
      "Image:C:\\Users\\user\\AI tests\\krasnoteh_OD\\images\\IMG_20230812_140144.jpg -> Annotation:C:/Users/user/AI tests/krasnoteh_OD/images\\IMG_20230812_140144.xml\n",
      "Image:C:\\Users\\user\\AI tests\\krasnoteh_OD\\images\\IMG_20230812_140149.jpg -> Annotation:C:/Users/user/AI tests/krasnoteh_OD/images\\IMG_20230812_140149.xml\n",
      "Image:C:\\Users\\user\\AI tests\\krasnoteh_OD\\images\\IMG_20230812_140151.jpg -> Annotation:C:/Users/user/AI tests/krasnoteh_OD/images\\IMG_20230812_140151.xml\n",
      "Image:C:\\Users\\user\\AI tests\\krasnoteh_OD\\images\\IMG_20230812_140155.jpg -> Annotation:C:/Users/user/AI tests/krasnoteh_OD/images\\IMG_20230812_140155.xml\n",
      "Image:C:\\Users\\user\\AI tests\\krasnoteh_OD\\images\\IMG_20230812_140159.jpg -> Annotation:C:/Users/user/AI tests/krasnoteh_OD/images\\IMG_20230812_140159.xml\n",
      "Image:C:\\Users\\user\\AI tests\\krasnoteh_OD\\images\\IMG_20230812_140208.jpg -> Annotation:C:/Users/user/AI tests/krasnoteh_OD/images\\IMG_20230812_140208.xml\n",
      "Image:C:\\Users\\user\\AI tests\\krasnoteh_OD\\images\\IMG_20230812_140214.jpg -> Annotation:C:/Users/user/AI tests/krasnoteh_OD/images\\IMG_20230812_140214.xml\n",
      "Image:C:\\Users\\user\\AI tests\\krasnoteh_OD\\images\\IMG_20230812_140218.jpg -> Annotation:C:/Users/user/AI tests/krasnoteh_OD/images\\IMG_20230812_140218.xml\n",
      "Image:C:\\Users\\user\\AI tests\\krasnoteh_OD\\images\\IMG_20230812_140223.jpg -> Annotation:C:/Users/user/AI tests/krasnoteh_OD/images\\IMG_20230812_140223.xml\n",
      "Image:C:\\Users\\user\\AI tests\\krasnoteh_OD\\images\\IMG_20230812_140227.jpg -> Annotation:C:/Users/user/AI tests/krasnoteh_OD/images\\IMG_20230812_140227.xml\n",
      "Image:C:\\Users\\user\\AI tests\\krasnoteh_OD\\images\\IMG_20230812_140231.jpg -> Annotation:C:/Users/user/AI tests/krasnoteh_OD/images\\IMG_20230812_140231.xml\n",
      "Image:C:\\Users\\user\\AI tests\\krasnoteh_OD\\images\\IMG_20230812_140233.jpg -> Annotation:C:/Users/user/AI tests/krasnoteh_OD/images\\IMG_20230812_140233.xml\n",
      "Image:C:\\Users\\user\\AI tests\\krasnoteh_OD\\images\\IMG_20230812_140238.jpg -> Annotation:C:/Users/user/AI tests/krasnoteh_OD/images\\IMG_20230812_140238.xml\n",
      "Image:C:\\Users\\user\\AI tests\\krasnoteh_OD\\images\\IMG_20230812_140247.jpg -> Annotation:C:/Users/user/AI tests/krasnoteh_OD/images\\IMG_20230812_140247.xml\n",
      "Image:C:\\Users\\user\\AI tests\\krasnoteh_OD\\images\\IMG_20230812_140249.jpg -> Annotation:C:/Users/user/AI tests/krasnoteh_OD/images\\IMG_20230812_140249.xml\n",
      "Image:C:\\Users\\user\\AI tests\\krasnoteh_OD\\images\\IMG_20230812_140255.jpg -> Annotation:C:/Users/user/AI tests/krasnoteh_OD/images\\IMG_20230812_140255.xml\n",
      "Image:C:\\Users\\user\\AI tests\\krasnoteh_OD\\images\\IMG_20230812_140257.jpg -> Annotation:C:/Users/user/AI tests/krasnoteh_OD/images\\IMG_20230812_140257.xml\n",
      "Image:C:\\Users\\user\\AI tests\\krasnoteh_OD\\images\\IMG_20230812_140259.jpg -> Annotation:C:/Users/user/AI tests/krasnoteh_OD/images\\IMG_20230812_140259.xml\n",
      "Image:C:\\Users\\user\\AI tests\\krasnoteh_OD\\images\\IMG_20230812_140308.jpg -> Annotation:C:/Users/user/AI tests/krasnoteh_OD/images\\IMG_20230812_140308.xml\n",
      "Image:C:\\Users\\user\\AI tests\\krasnoteh_OD\\images\\IMG_20230812_140310.jpg -> Annotation:C:/Users/user/AI tests/krasnoteh_OD/images\\IMG_20230812_140310.xml\n",
      "Image:C:\\Users\\user\\AI tests\\krasnoteh_OD\\images\\IMG_20230812_140312.jpg -> Annotation:C:/Users/user/AI tests/krasnoteh_OD/images\\IMG_20230812_140312.xml\n"
     ]
    }
   ],
   "source": [
    "#запуск программы\n",
    "!cd {LABELIMG_PATH} && python labelImg.py"
   ]
  },
  {
   "cell_type": "code",
   "execution_count": 3,
   "id": "f06b9ac0",
   "metadata": {},
   "outputs": [],
   "source": [
    "#поработаем с XML форматом\n",
    "import xml.etree.ElementTree as ET\n",
    "tree = ET.parse('C:/Users/user/AI tests/krasnoteh_OD/images/test.xml') #адрес файла\n",
    "root=tree.getroot()   #парсим"
   ]
  },
  {
   "cell_type": "code",
   "execution_count": 4,
   "id": "220a688b",
   "metadata": {},
   "outputs": [
    {
     "name": "stdout",
     "output_type": "stream",
     "text": [
      "filename test.png\n",
      "path C:\\Users\\user\\AI tests\\krasnoteh_OD\\images\\test.png\n",
      "width 100\n",
      "height 100\n"
     ]
    }
   ],
   "source": [
    "#вот так ориентируемся в файле\n",
    "print(root[1].tag, root[1].text)\n",
    "print(root[2].tag, root[2].text)\n",
    "print(root[4][0].tag, root[4][0].text)\n",
    "print(root[4][1].tag, root[4][1].text)"
   ]
  },
  {
   "cell_type": "code",
   "execution_count": 5,
   "id": "3dbe2734",
   "metadata": {},
   "outputs": [
    {
     "name": "stdout",
     "output_type": "stream",
     "text": [
      "2\n"
     ]
    }
   ],
   "source": [
    "#сколько обьектов размечено? (6 - кол-во служебных элементов, таких как размер, название и т.д)\n",
    "num_objects = len(root)-6\n",
    "print(num_objects)"
   ]
  },
  {
   "cell_type": "code",
   "execution_count": 6,
   "id": "433b4cf4",
   "metadata": {},
   "outputs": [
    {
     "name": "stdout",
     "output_type": "stream",
     "text": [
      "name\n",
      "xmin\n",
      "name\n",
      "xmin\n"
     ]
    }
   ],
   "source": [
    "for num in range(num_objects):\n",
    "    print(root[num+6][0].tag)\n",
    "    print(root[num+6][4][0].tag)"
   ]
  },
  {
   "cell_type": "code",
   "execution_count": 1,
   "id": "b920e71a",
   "metadata": {},
   "outputs": [
    {
     "name": "stdout",
     "output_type": "stream",
     "text": [
      "[PhysicalDevice(name='/physical_device:GPU:0', device_type='GPU')]\n"
     ]
    }
   ],
   "source": [
    "#импортируем разное\n",
    "import tensorflow as tf\n",
    "gpus = tf.config.experimental.list_physical_devices('GPU')\n",
    "print(gpus)\n",
    "for gpu in gpus: \n",
    "    tf.config.experimental.set_memory_growth(gpu, True)\n",
    "from os import listdir\n",
    "from os.path import isfile, join\n",
    "import matplotlib.pyplot as plt\n",
    "import xml.etree.ElementTree as ET"
   ]
  },
  {
   "cell_type": "code",
   "execution_count": 2,
   "id": "9e2cca31",
   "metadata": {
    "scrolled": true
   },
   "outputs": [
    {
     "name": "stdout",
     "output_type": "stream",
     "text": [
      "ball\n",
      "ball\n",
      "ball\n",
      "ball\n",
      "ball\n",
      "ball\n",
      "ball\n",
      "ball\n",
      "ball\n",
      "ball\n",
      "[[-0.125, -0.375, 0.28125, 0.03125], [-0.28125, -0.859375, 0.15625, -0.421875], [0.265625, -0.125, 0.6875, 0.296875], [-1.03125, 0.0625, -0.625, 0.484375], [-0.484375, -0.4375, -0.046875, 0.0], [0.40625, 0.296875, 0.8125, 0.703125], [-0.34375, -0.578125, 0.03125, -0.203125], [0.265625, -0.546875, 0.640625, -0.171875], [-0.703125, -0.609375, -0.359375, -0.265625], [-1.015625, 0.015625, -0.640625, 0.40625]]\n"
     ]
    },
    {
     "data": {
      "image/png": "[encoded data removed]",
      "text/plain": [
       "<Figure size 1000x600 with 1 Axes>"
      ]
     },
     "metadata": {},
     "output_type": "display_data"
    }
   ],
   "source": [
    "#обработаем одну картинку\n",
    "\n",
    "def load_img(img):\n",
    "    img = tf.io.read_file(img)\n",
    "    img = tf.image.decode_jpeg(img, channels=3)\n",
    "    img = tf.cast(img, tf.float32)/256\n",
    "    img = tf.image.resize(img,(128,128))\n",
    "    return img\n",
    "\n",
    "tree = ET.parse('C:/users/user/AI tests/krasnoteh_OD/images/test_2.xml') #адрес файла\n",
    "root=tree.getroot()   #парсим\n",
    "num_objects = len(root)-6\n",
    "cords = []\n",
    "w = int(root[4][0].text) #ширина x\n",
    "h = int(root[4][1].text) #высота y\n",
    "\n",
    "for num in range(num_objects):\n",
    "    print(root[num+6][0].text) #имя обьекта\n",
    "    \n",
    "    object_cords = []\n",
    "    #нормализуем координаты от -1 до 1, опираясь на исходные координаты\n",
    "    object_cords.append(int(root[num+6][4][0].text)/w*2-1)\n",
    "    object_cords.append(int(root[num+6][4][1].text)/h*2-1)\n",
    "    object_cords.append(int(root[num+6][4][2].text)/w*2-1)\n",
    "    object_cords.append(int(root[num+6][4][3].text)/h*2-1)\n",
    "    \n",
    "    cords.append(object_cords)\n",
    "print(cords)\n",
    "\n",
    "img = load_img(root[2].text)\n",
    "plt.figure(figsize=(10, 6))\n",
    "ax = plt.subplot(3, 1, 1)\n",
    "plt.imshow(img)\n",
    "plt.axis('off')\n",
    "plt.show()    "
   ]
  },
  {
   "cell_type": "code",
   "execution_count": 2,
   "id": "e1b71a73",
   "metadata": {},
   "outputs": [
    {
     "name": "stdout",
     "output_type": "stream",
     "text": [
      "['C:/users/user/AI tests/krasnoteh_OD/images/test_0.xml', 'C:/users/user/AI tests/krasnoteh_OD/images/test_1.xml', 'C:/users/user/AI tests/krasnoteh_OD/images/test_10.xml', 'C:/users/user/AI tests/krasnoteh_OD/images/test_100.xml', 'C:/users/user/AI tests/krasnoteh_OD/images/test_101.xml']\n"
     ]
    }
   ],
   "source": [
    "#преобразуем папку в tfrecord\n",
    "#так чтение датасета и обучение будет быстрее\n",
    "\n",
    "fn = \"C:/users/user/AI tests/krasnoteh_OD/images\"\n",
    "#формируем список всех xml файлов в папке\n",
    "p = [fn + '/' + f for f in listdir(fn) if isfile(join(fn, f)) and f[-1] == 'l'] \n",
    "print(p[:5])\n",
    "\n",
    "    \n",
    "def load_img(img):\n",
    "    img = tf.io.read_file(img)\n",
    "    img = tf.image.decode_jpeg(img, channels=3)\n",
    "    img = tf.cast(img, tf.float32)/256\n",
    "    img = tf.image.resize(img,(128,128))\n",
    "    return img\n",
    "    \n",
    "#создаем запись\n",
    "writer = tf.io.TFRecordWriter('bounding_box_dataset.tfrecord')\n",
    "\n",
    "\n",
    "\n",
    "for xml in p:\n",
    "    tree = ET.parse(xml) #адрес файла\n",
    "    root=tree.getroot()   #парсим\n",
    "    num_objects = len(root)-6\n",
    "    cords = []\n",
    "    w = int(root[4][0].text) #ширина x\n",
    "    h = int(root[4][1].text) #высота y\n",
    "    for num in range(num_objects):\n",
    "        object_cords = []\n",
    "        #нормализуем координаты от -1 до 1, опираясь на исходные координаты\n",
    "        object_cords.append(int(root[num+6][4][0].text)/w*2-1)\n",
    "        object_cords.append(int(root[num+6][4][1].text)/h*2-1)\n",
    "        object_cords.append(int(root[num+6][4][2].text)/w*2-1)\n",
    "        object_cords.append(int(root[num+6][4][3].text)/h*2-1)\n",
    "        cords.append(object_cords)\n",
    "\n",
    "    img = load_img(root[2].text)\n",
    "    #готовим данные, представляем в байтовом виде\n",
    "    serialized_img = tf.io.serialize_tensor(img).numpy()\n",
    "    serialized_cords = tf.io.serialize_tensor(cords).numpy()\n",
    "    #собираем экзепмляр\n",
    "    example = tf.train.Example(features=tf.train.Features(feature={\n",
    "        'img': tf.train.Feature(bytes_list=tf.train.BytesList(value=[serialized_img])),\n",
    "        'cords': tf.train.Feature(bytes_list=tf.train.BytesList(value=[serialized_cords]))\n",
    "    }))\n",
    "\n",
    "    #записываем в запись\n",
    "    writer.write(example.SerializeToString())\n",
    "\n",
    "\n",
    "writer.close()"
   ]
  },
  {
   "cell_type": "code",
   "execution_count": 8,
   "id": "3a08594e",
   "metadata": {},
   "outputs": [
    {
     "name": "stdout",
     "output_type": "stream",
     "text": [
      "(128, 128, 3)\n",
      "(10, 4)\n"
     ]
    }
   ],
   "source": [
    "#прочитаем запись\n",
    "dataset = tf.data.TFRecordDataset('bounding_box_dataset.tfrecord')\n",
    "\n",
    "\n",
    "def parse_record(record):\n",
    "    #нужно описать приходящий экземпляр\n",
    "    #имена элементов как при записи\n",
    "    feature_description = {\n",
    "        'img': tf.io.FixedLenFeature([], tf.string),\n",
    "        'cords': tf.io.FixedLenFeature([], tf.string)\n",
    "    }\n",
    "    parsed_record = tf.io.parse_single_example(record, feature_description)\n",
    "    img = tf.io.parse_tensor(parsed_record['img'], out_type=tf.float32)\n",
    "    cords = tf.io.parse_tensor(parsed_record['cords'], out_type=tf.float32)\n",
    "    return img, cords\n",
    "\n",
    "#пройдемся по записи и распакуем ее\n",
    "dataset = dataset.map(parse_record)\n",
    "\n",
    "#что-нибудь выведем\n",
    "for i, c in dataset.take(1):\n",
    "    print(i.shape)\n",
    "    print(c.shape)"
   ]
  },
  {
   "cell_type": "code",
   "execution_count": null,
   "id": "090a833f",
   "metadata": {},
   "outputs": [],
   "source": []
  }
 ],
 "metadata": {
  "kernelspec": {
   "display_name": "gpu",
   "language": "python",
   "name": "myenv"
  },
  "language_info": {
   "codemirror_mode": {
    "name": "ipython",
    "version": 3
   },
   "file_extension": ".py",
   "mimetype": "text/x-python",
   "name": "python",
   "nbconvert_exporter": "python",
   "pygments_lexer": "ipython3",
   "version": "3.9.16"
  }
 },
 "nbformat": 4,
 "nbformat_minor": 5
}

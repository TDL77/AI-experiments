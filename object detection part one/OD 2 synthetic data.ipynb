{
 "cells": [
  {
   "cell_type": "code",
   "execution_count": 2,
   "id": "943061e1",
   "metadata": {},
   "outputs": [
    {
     "data": {
      "image/png": "[encoded data removed]",
      "text/plain": [
       "<Figure size 1000x600 with 1 Axes>"
      ]
     },
     "metadata": {},
     "output_type": "display_data"
    }
   ],
   "source": [
    "import numpy as np\n",
    "import matplotlib.pyplot as plt\n",
    "import cv2\n",
    "import xml.etree.ElementTree as ET\n",
    "\n",
    "#сгенерирем одну картинку\n",
    "#фон\n",
    "screen = np.full((100,100,3), 250, dtype=np.float32)\n",
    "x = 50\n",
    "y = 70\n",
    "r = 10\n",
    "screen = cv2.circle(screen, (x,y), r, (255, 0 , 0), r)\n",
    "\n",
    "#найдем координаты рамки для этого кружка\n",
    "xmin = int(x-r*1.5)\n",
    "xmax = int(x+r*1.5)\n",
    "ymin = int(y-r*1.5)\n",
    "ymax = int(y+r*1.5)\n",
    "\n",
    "#нарисуем рамку\n",
    "screen = cv2.rectangle(screen ,(xmin, ymin ),(xmax, ymax),(0,255,0),1)\n",
    "\n",
    "#готовим к выводу \n",
    "screen/=255\n",
    "#стандартный вывод картинки matplotlib\n",
    "plt.figure(figsize=(10, 6))\n",
    "ax = plt.subplot(3, 1, 1)\n",
    "plt.imshow(screen)\n",
    "plt.show()    "
   ]
  },
  {
   "cell_type": "code",
   "execution_count": 4,
   "id": "3761cd9e",
   "metadata": {},
   "outputs": [
    {
     "data": {
      "image/png": "[encoded data removed]",
      "text/plain": [
       "<Figure size 1000x600 with 1 Axes>"
      ]
     },
     "metadata": {},
     "output_type": "display_data"
    }
   ],
   "source": [
    "#это алгоритмический генератор картинок + запись параметров элементов\n",
    "#в xml файл по стандарту labelimg\n",
    "\n",
    "import random\n",
    "\n",
    "#папка, в которую сохраняем картинки и xml-ки\n",
    "folder = 'C:/Users/user/AI tests/krasnoteh_OD/images/'\n",
    "\n",
    "#сколько хотим картинок\n",
    "for count in range(1000):\n",
    "    #кол-во кружков на картинку\n",
    "    n = 5\n",
    "    name = 'test_' + str(count)\n",
    "    screen = np.full((100,100,3), 255, dtype=np.float32)\n",
    "    \n",
    "    #p-главный корневой элемент будущего xml\n",
    "    #присоединяем к нему разные элементы по стандарту labelimg, чтобы все было совместимо\n",
    "    #многие элементы не несут смысла\n",
    "    p=ET.Element('annotation')\n",
    "    c = ET.SubElement(p, 'folder')\n",
    "    c.text = 'images'\n",
    "    c = ET.SubElement(p, 'filename')\n",
    "    c.text = name\n",
    "    c = ET.SubElement(p, 'path')\n",
    "    c.text = folder + name + '.png'\n",
    "    c = ET.SubElement(p, 'sourse')\n",
    "    c.text = 'hm'\n",
    "    c = ET.SubElement(p, 'size')\n",
    "    s = ET.SubElement(c, 'width')\n",
    "    s.text = '100'\n",
    "    s = ET.SubElement(c, 'height')\n",
    "    s.text = '100'\n",
    "    s = ET.SubElement(c, 'depth')\n",
    "    s.text = '3'\n",
    "    c = ET.SubElement(p, 'segmented')\n",
    "    c.text = '0'\n",
    "\n",
    "    for nn in range(n):\n",
    "        x = random.randint(10,90)\n",
    "        y = random.randint(10,90)\n",
    "        r = random.randint(6, 10)\n",
    "        #рисуем кружок\n",
    "        screen = cv2.circle(screen, (x,y), r, (random.randint(10, 20), random.randint(10, 20) , random.randint(100, 250)), r)\n",
    "        #и описываем его в xml\n",
    "        o = ET.SubElement(p, 'object')\n",
    "        n = ET.SubElement(o, 'name')\n",
    "        n.text = 'ball'\n",
    "        c = ET.SubElement(o, 'pose')\n",
    "        c.text = 'un'\n",
    "        c = ET.SubElement(o, 'truncated')\n",
    "        c.text = '0'\n",
    "        c = ET.SubElement(o, 'difficult')\n",
    "        c.text = '0'\n",
    "        bb = ET.SubElement(o, 'bndbox')\n",
    "        \n",
    "        #вычисляем и записываем кординаты\n",
    "\n",
    "        xmin = int(x-r*1.5)\n",
    "        xmax = int(x+r*1.5)\n",
    "        ymin = int(y-r*1.5)\n",
    "        ymax = int(y+r*1.5)\n",
    "\n",
    "        xmin_ = ET.SubElement(bb, 'xmin')\n",
    "        xmin_.text = str(xmin)\n",
    "        ymin_ = ET.SubElement(bb, 'ymin')\n",
    "        ymin_.text = str(ymin)\n",
    "        xmax_ = ET.SubElement(bb, 'xmax')\n",
    "        xmax_.text = str(xmax)\n",
    "        ymax_ = ET.SubElement(bb, 'ymax')\n",
    "        ymax_.text = str(ymax)\n",
    "\n",
    "    #сохраняем p\n",
    "    tree = ET.ElementTree(p)\n",
    "    #эта строчка чтобы запись была с отступами, а не одной строкой и читалась нормально\n",
    "    #не влияет на програмное чтение xml\n",
    "    ET.indent(tree, '  ')\n",
    "    #сохраняем xml\n",
    "    tree.write(folder + name +'.xml', encoding=\"utf-8\") \n",
    "    #сохраняем картинку\n",
    "    cv2.imwrite(folder + name + '.png' , screen)\n",
    "screen/=255\n",
    "\n",
    "plt.figure(figsize=(10, 6))\n",
    "ax = plt.subplot(3, 1, 1)\n",
    "plt.imshow(screen)\n",
    "\n",
    "plt.show()        "
   ]
  },
  {
   "cell_type": "code",
   "execution_count": null,
   "id": "fcfd7a26",
   "metadata": {},
   "outputs": [],
   "source": []
  }
 ],
 "metadata": {
  "kernelspec": {
   "display_name": "gpu",
   "language": "python",
   "name": "myenv"
  },
  "language_info": {
   "codemirror_mode": {
    "name": "ipython",
    "version": 3
   },
   "file_extension": ".py",
   "mimetype": "text/x-python",
   "name": "python",
   "nbconvert_exporter": "python",
   "pygments_lexer": "ipython3",
   "version": "3.9.16"
  }
 },
 "nbformat": 4,
 "nbformat_minor": 5
}

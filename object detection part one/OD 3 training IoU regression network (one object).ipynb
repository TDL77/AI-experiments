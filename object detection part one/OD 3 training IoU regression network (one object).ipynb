{
 "cells": [
  {
   "cell_type": "code",
   "execution_count": 1,
   "id": "c948bc41",
   "metadata": {},
   "outputs": [
    {
     "data": {
      "image/png": "[encoded data removed]",
      "text/plain": [
       "<Figure size 1000x600 with 1 Axes>"
      ]
     },
     "metadata": {},
     "output_type": "display_data"
    },
    {
     "name": "stdout",
     "output_type": "stream",
     "text": [
      "Площадь пересечения: 2000\n",
      "Площадь обьединения: 4950\n",
      "IoU: 0.40404040404040403\n",
      "IoU Loss: 0.595959595959596\n"
     ]
    }
   ],
   "source": [
    "import matplotlib.pyplot as plt\n",
    "import cv2\n",
    "import numpy as np\n",
    "\n",
    "#посмотрим алгортм расчета пересечения и обьединения\n",
    "\n",
    "def intersection_area(minx1, miny1, maxx1, maxy1, minx2, miny2, maxx2, maxy2):\n",
    "    # Пересечение по оси X\n",
    "    x_overlap = max(0, min(maxx1, maxx2) - max(minx1, minx2))\n",
    "    # Пересечение по оси Y\n",
    "    y_overlap = max(0, min(maxy1, maxy2) - max(miny1, miny2))\n",
    "    \n",
    "    if x_overlap == 0 or y_overlap == 0:\n",
    "        return 0.0\n",
    "    # Считаем площадь\n",
    "    area = x_overlap * y_overlap\n",
    "    return area\n",
    "\n",
    "def union_area(minx1, miny1, maxx1, maxy1, minx2, miny2, maxx2, maxy2):\n",
    "    # Посчитаем просто площади\n",
    "    area1 = (maxx1 - minx1) * (maxy1 - miny1)\n",
    "    area2 = (maxx2 - minx2) * (maxy2 - miny2)\n",
    "    \n",
    "    # Пересечение\n",
    "    intersection = intersection_area(minx1, miny1, maxx1, maxy1, minx2, miny2, maxx2, maxy2)\n",
    "    \n",
    "    # Вычтем пересечение из суммы площадей\n",
    "    union_area = area1 + area2 - intersection\n",
    "    return union_area\n",
    "\n",
    "#посмотрим как это работает\n",
    "screen = np.full((100,100,3), 255, dtype=np.float32)\n",
    "\n",
    "minx1, miny1, maxx1, maxy1 = 10, 15, 60, 70\n",
    "minx2, miny2, maxx2, maxy2 = 20, 20, 80, 90\n",
    "\n",
    "screen = cv2.rectangle(screen ,(minx1, miny1 ),(maxx1, maxy1),(0,255,0),1)\n",
    "screen = cv2.rectangle(screen ,(minx2, miny2 ),(maxx2, maxy2),(255,0,0),1)\n",
    "screen/=255\n",
    "#выводим\n",
    "plt.figure(figsize=(10, 6))\n",
    "ax = plt.subplot(3, 1, 1)\n",
    "plt.imshow(screen)\n",
    "plt.show()\n",
    "\n",
    "intersection_area_result = intersection_area(minx1, miny1, maxx1, maxy1, minx2, miny2, maxx2, maxy2)\n",
    "union_area_result = union_area(minx1, miny1, maxx1, maxy1, minx2, miny2, maxx2, maxy2)\n",
    "print(\"Площадь пересечения:\", intersection_area_result)\n",
    "print(\"Площадь обьединения:\", union_area_result)\n",
    "IoU = intersection_area_result/union_area_result\n",
    "print('IoU:', IoU)\n",
    "print('IoU Loss:', 1- IoU)"
   ]
  },
  {
   "cell_type": "code",
   "execution_count": 2,
   "id": "f95db1b1",
   "metadata": {},
   "outputs": [
    {
     "name": "stdout",
     "output_type": "stream",
     "text": [
      "[PhysicalDevice(name='/physical_device:GPU:0', device_type='GPU')]\n"
     ]
    }
   ],
   "source": [
    "#импортируем разное\n",
    "import tensorflow as tf\n",
    "gpus = tf.config.experimental.list_physical_devices('GPU')\n",
    "print(gpus)\n",
    "for gpu in gpus: \n",
    "    tf.config.experimental.set_memory_growth(gpu, True)\n",
    "from os import listdir\n",
    "from os.path import isfile, join\n",
    "import matplotlib.pyplot as plt\n",
    "import numpy as np\n",
    "import cv2"
   ]
  },
  {
   "cell_type": "code",
   "execution_count": 3,
   "id": "5e4928e8",
   "metadata": {},
   "outputs": [
    {
     "data": {
      "image/png": "[encoded data removed]",
      "text/plain": [
       "<Figure size 1000x600 with 1 Axes>"
      ]
     },
     "metadata": {},
     "output_type": "display_data"
    },
    {
     "name": "stdout",
     "output_type": "stream",
     "text": [
      "[[24 28 37 42]]\n"
     ]
    }
   ],
   "source": [
    "#прочитаем запись\n",
    "dataset = tf.data.TFRecordDataset('bounding_box_dataset.tfrecord')\n",
    "\n",
    "\n",
    "def parse_record(record):\n",
    "    #нужно описать приходящий экземпляр\n",
    "    #имена элементов как при записи\n",
    "    feature_description = {\n",
    "        'img': tf.io.FixedLenFeature([], tf.string),\n",
    "        'cords': tf.io.FixedLenFeature([], tf.string)\n",
    "    }\n",
    "    parsed_record = tf.io.parse_single_example(record, feature_description)\n",
    "    img = tf.io.parse_tensor(parsed_record['img'], out_type=tf.float32)\n",
    "    cords = tf.io.parse_tensor(parsed_record['cords'], out_type=tf.float32)\n",
    "    return img, cords\n",
    "\n",
    "#пройдемся по записи и распакуем ее\n",
    "dataset = dataset.map(parse_record)\n",
    "\n",
    "#еще раз проверим\n",
    "for i, c in dataset.take(1):\n",
    "    plt.figure(figsize=(10, 6))\n",
    "    ax = plt.subplot(3, 1, 1)\n",
    "    i = i.numpy()\n",
    "    c = c.numpy()\n",
    "    c = (c+1)/2*64 #обратно из от -1...1 к 0...64\n",
    "    c = c.astype(np.int16)  #для opencv\n",
    "    for bb in c:\n",
    "        i = cv2.rectangle(i ,(bb[0] ,bb[1] ),(bb[2], bb[3]),(1,0,0),1)\n",
    "    plt.imshow(i)\n",
    "    plt.show()\n",
    "    print(c)\n",
    "    \n",
    "dataset = dataset.cache().prefetch(buffer_size=tf.data.AUTOTUNE).batch(32).shuffle(50)"
   ]
  },
  {
   "cell_type": "code",
   "execution_count": 10,
   "id": "4098d8ad",
   "metadata": {},
   "outputs": [],
   "source": [
    "from tensorflow import keras\n",
    "from tensorflow.keras.layers import Dense, Flatten, Input, Conv2D, Conv2DTranspose, Concatenate, LeakyReLU, Dropout\n",
    "\n",
    "#давайте напишем нейросеть\n",
    "\n",
    "inputs = Input((64,64,3))\n",
    "x = Conv2D(32, 3, activation = 'relu', padding = 'same')(inputs)\n",
    "x = Conv2D(64, 3, activation = 'relu', padding = 'same', strides = 2)(x)\n",
    "x = Conv2D(64, 3, activation = 'relu', padding = 'same')(x)\n",
    "x = Conv2D(128, 3, activation = 'relu', padding = 'same', strides = 2)(x)\n",
    "x = Conv2D(128, 3, activation = 'relu', padding = 'same')(x)\n",
    "x = Conv2D(128, 3, activation = 'relu', padding = 'same', strides = 2)(x)\n",
    "\n",
    "x = Flatten()(x)\n",
    "x = Dropout(0.2)(x)\n",
    "x = Dense(128, activation = 'relu')(x)\n",
    "x = Dense(4)(x)  #без активации, выход линеен, может быть от -inf до +inf\n",
    "\n",
    "outputs = x\n",
    "\n",
    "boxregressor = keras.Model(inputs, outputs)"
   ]
  },
  {
   "cell_type": "code",
   "execution_count": 11,
   "id": "277d9014",
   "metadata": {},
   "outputs": [],
   "source": [
    "def IoU_Loss(true, pred):\n",
    "    #(32, 1, 4) \n",
    "    t1 = true\n",
    "    t2 = pred\n",
    "    \n",
    "    #наши данные уже в правильном порядке\n",
    "    minx1, miny1, maxx1, maxy1 = tf.split(t1, 4, axis = 2)\n",
    "    \n",
    "    #minx1.shape = (32,1,1) работаем сразу с целым батчем\n",
    "    \n",
    "    #а вот нейросеть не знает, где должна быть min и max координата\n",
    "    #нормализуем данные\n",
    "    fminx, fminy, fmaxx, fmaxy = tf.split(t2, 4, axis = 2)\n",
    "    minx2 = tf.minimum(fminx, fmaxx)\n",
    "    miny2 = tf.minimum(fminy, fmaxy)\n",
    "    maxx2 = tf.maximum(fminx, fmaxx)\n",
    "    maxy2 = tf.maximum(fminy, fmaxy)\n",
    "    \n",
    "    #считаем пересечение прямо как в алгоритме выше\n",
    "    x_overlap = tf.maximum(0.0, tf.minimum(maxx1, maxx2) - tf.maximum(minx1, minx2))\n",
    "    y_overlap = tf.maximum(0.0, tf.minimum(maxy1, maxy2) - tf.maximum(miny1, miny2))\n",
    "    \n",
    "    intersection = x_overlap*y_overlap\n",
    "    \n",
    "    #площади найти не сложно\n",
    "    area1 = (maxx1 -minx1)*(maxy1-miny1)\n",
    "    area2 = (maxx2 -minx2)*(maxy2-miny2)\n",
    "    \n",
    "    #обьединение тоже по алгоритму\n",
    "    union = area1 + area2 - intersection\n",
    "    \n",
    "    IoU = intersection/union\n",
    "    loss = 1.0 - IoU\n",
    "    \n",
    "    return loss"
   ]
  },
  {
   "cell_type": "code",
   "execution_count": 12,
   "id": "b9b377e9",
   "metadata": {},
   "outputs": [],
   "source": [
    "class Model(tf.keras.Model):\n",
    "    def __init__(self, nn_box):\n",
    "        super(Model, self).__init__()\n",
    "        self.nn_box = nn_box\n",
    "        \n",
    "        self.box_optimizer = tf.keras.optimizers.Adam(1e-4, beta_1=0.5)\n",
    "        \n",
    "    @tf.function\n",
    "    def training_step(self, x, true_boxes):\n",
    "        \n",
    "        with tf.GradientTape() as tape_box:\n",
    "            \n",
    "            pred = self.nn_box(x, training=True)\n",
    "            pred = tf.reshape(pred, [-1, 1, 4])  #далее заменим это на [-1, кол-во рамок, 4]\n",
    "\n",
    "            loss = IoU_Loss(true_boxes, pred)   \n",
    "\n",
    "            \n",
    "        grads = tape_box.gradient(loss, self.nn_box.trainable_variables)\n",
    "        self.box_optimizer.apply_gradients(zip(grads, self.nn_box.trainable_variables))\n",
    "\n",
    "        return loss\n",
    "    \n",
    "model = Model(boxregressor)"
   ]
  },
  {
   "cell_type": "code",
   "execution_count": 7,
   "id": "a08309a2",
   "metadata": {},
   "outputs": [
    {
     "name": "stdout",
     "output_type": "stream",
     "text": [
      "tf.Tensor(0.99828285, shape=(), dtype=float32)\n"
     ]
    }
   ],
   "source": [
    "for i, c in dataset.take(1):\n",
    "    print(tf.reduce_mean(model.training_step(i, c)))"
   ]
  },
  {
   "cell_type": "code",
   "execution_count": 15,
   "id": "c9c161ec",
   "metadata": {
    "scrolled": false
   },
   "outputs": [
    {
     "data": {
      "image/png": "[encoded data removed]",
      "text/plain": [
       "<Figure size 1000x600 with 5 Axes>"
      ]
     },
     "metadata": {},
     "output_type": "display_data"
    },
    {
     "name": "stdout",
     "output_type": "stream",
     "text": [
      "[[60 61 48 49]]\n"
     ]
    }
   ],
   "source": [
    "#проверка работы\n",
    "def testing():\n",
    "    for ii, cc in dataset.take(1):\n",
    "        #обрабатывем целый батч, используем только пять элементов\n",
    "        pred = model.nn_box(ii)\n",
    "        plt.figure(figsize=(10, 6))\n",
    "        \n",
    "        for num in range(5):\n",
    "            i = ii[num]\n",
    "            \n",
    "            pred = tf.reshape(pred, [-1, 1, 4])\n",
    "            c = pred[num]\n",
    "\n",
    "            ax = plt.subplot(1, 5, num+1)\n",
    "            #переход в numpy для работы в opencv\n",
    "            i = i.numpy()\n",
    "            c = c.numpy()\n",
    "            c = (c+1)/2*64 #обратно из от -1...1 к 0...64\n",
    "            c = c.astype(np.int16)  #для opencv\n",
    "            for bb in c:\n",
    "                i = cv2.rectangle(i ,(bb[0] ,bb[1] ),(bb[2], bb[3]),(0,1,0),1)\n",
    "            plt.imshow(i)\n",
    "            \n",
    "        plt.show()\n",
    "        print(c)\n",
    "        \n",
    "testing()"
   ]
  },
  {
   "cell_type": "code",
   "execution_count": 14,
   "id": "aab30326",
   "metadata": {
    "scrolled": false
   },
   "outputs": [
    {
     "name": "stdout",
     "output_type": "stream",
     "text": [
      "50\n"
     ]
    },
    {
     "data": {
      "image/png": "[encoded data removed]",
      "text/plain": [
       "<Figure size 640x480 with 1 Axes>"
      ]
     },
     "metadata": {},
     "output_type": "display_data"
    },
    {
     "data": {
      "image/png": "[encoded data removed]",
      "text/plain": [
       "<Figure size 1000x600 with 5 Axes>"
      ]
     },
     "metadata": {},
     "output_type": "display_data"
    },
    {
     "name": "stdout",
     "output_type": "stream",
     "text": [
      "[[15 31  2 18]]\n"
     ]
    }
   ],
   "source": [
    "#обучение\n",
    "from IPython.display import clear_output\n",
    "hist = np.array(np.empty([0]))\n",
    "epochs = 50\n",
    "for epoch in range(1, epochs + 1):\n",
    "    loss = 0\n",
    "    lc = 0\n",
    "    for step, (i, c) in enumerate(dataset):\n",
    "        loss+=tf.reduce_mean(model.training_step(i,c))\n",
    "        lc+=1\n",
    "    clear_output(wait=True)\n",
    "    print(epoch)\n",
    "    hist = np.append(hist, loss/lc)\n",
    "    plt.plot(np.arange(0,len(hist)), hist)\n",
    "    plt.show()\n",
    "    testing()"
   ]
  },
  {
   "cell_type": "code",
   "execution_count": 16,
   "id": "7eb82c3b",
   "metadata": {},
   "outputs": [
    {
     "name": "stdout",
     "output_type": "stream",
     "text": [
      "WARNING:tensorflow:Compiled the loaded model, but the compiled metrics have yet to be built. `model.compile_metrics` will be empty until you train or evaluate the model.\n"
     ]
    }
   ],
   "source": [
    "#сохранить\n",
    "model.nn_box.save('bounding_box_for_one_object.h5')"
   ]
  },
  {
   "cell_type": "code",
   "execution_count": 17,
   "id": "6a3b2410",
   "metadata": {},
   "outputs": [],
   "source": [
    "#загрузить веса\n",
    "model.nn_box.load_weights('bounding_box_for_one_object.h5')"
   ]
  },
  {
   "cell_type": "code",
   "execution_count": null,
   "id": "3b89bb86",
   "metadata": {},
   "outputs": [],
   "source": []
  }
 ],
 "metadata": {
  "kernelspec": {
   "display_name": "gpu",
   "language": "python",
   "name": "myenv"
  },
  "language_info": {
   "codemirror_mode": {
    "name": "ipython",
    "version": 3
   },
   "file_extension": ".py",
   "mimetype": "text/x-python",
   "name": "python",
   "nbconvert_exporter": "python",
   "pygments_lexer": "ipython3",
   "version": "3.9.16"
  }
 },
 "nbformat": 4,
 "nbformat_minor": 5
}

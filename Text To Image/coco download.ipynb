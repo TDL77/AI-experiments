{
 "cells": [
  {
   "cell_type": "code",
   "execution_count": 2,
   "id": "88278096",
   "metadata": {},
   "outputs": [],
   "source": [
    "import os\n",
    "import collections\n",
    "import json\n",
    "import numpy as np\n",
    "import tensorflow as tf\n",
    "from tensorflow import keras\n",
    "from tensorflow.keras import layers\n",
    "import tensorflow_hub as hub\n",
    "import tensorflow_text as text\n",
    "import tensorflow_addons as tfa\n",
    "import matplotlib.pyplot as plt\n",
    "import matplotlib.image as mpimg\n",
    "from tqdm import tqdm\n",
    "\n",
    "# Suppressing tf.hub warnings\n",
    "tf.get_logger().setLevel(\"ERROR\")"
   ]
  },
  {
   "cell_type": "code",
   "execution_count": null,
   "id": "33487e27",
   "metadata": {},
   "outputs": [],
   "source": [
    "root_dir = \"datasets\"\n",
    "annotations_dir = os.path.join(root_dir, \"annotations\")\n",
    "images_dir = os.path.join(root_dir, \"train2014\")\n",
    "tfrecords_dir = os.path.join(root_dir, \"tfrecords\")\n",
    "annotation_file = os.path.join(annotations_dir, \"captions_train2014.json\")\n",
    "\n",
    "# Download caption annotation files\n",
    "if not os.path.exists(annotations_dir):\n",
    "    annotation_zip = tf.keras.utils.get_file(\n",
    "        \"captions.zip\",\n",
    "        cache_dir=os.path.abspath(\".\"),\n",
    "        origin=\"http://images.cocodataset.org/annotations/annotations_trainval2014.zip\",\n",
    "        extract=True,\n",
    "    )\n",
    "    os.remove(annotation_zip)\n",
    "\n",
    "# Download image files\n",
    "if not os.path.exists(images_dir):\n",
    "    image_zip = tf.keras.utils.get_file(\n",
    "        \"train2014.zip\",\n",
    "        cache_dir=os.path.abspath(\".\"),\n",
    "        origin=\"http://images.cocodataset.org/zips/train2014.zip\",\n",
    "        extract=True,\n",
    "    )\n",
    "    os.remove(image_zip)\n",
    "\n",
    "print(\"Dataset is downloaded and extracted successfully.\")\n",
    "\n",
    "with open(annotation_file, \"r\") as f:\n",
    "    annotations = json.load(f)[\"annotations\"]\n",
    "\n",
    "image_path_to_caption = collections.defaultdict(list)\n",
    "for element in annotations:\n",
    "    caption = f\"{element['caption'].lower().rstrip('.')}\"\n",
    "    image_path = images_dir + \"/COCO_train2014_\" + \"%012d.jpg\" % (element[\"image_id\"])\n",
    "    image_path_to_caption[image_path].append(caption)\n",
    "\n",
    "image_paths = list(image_path_to_caption.keys())\n",
    "print(f\"Number of images: {len(image_paths)}\")"
   ]
  }
 ],
 "metadata": {
  "kernelspec": {
   "display_name": "gpu",
   "language": "python",
   "name": "myenv"
  },
  "language_info": {
   "codemirror_mode": {
    "name": "ipython",
    "version": 3
   },
   "file_extension": ".py",
   "mimetype": "text/x-python",
   "name": "python",
   "nbconvert_exporter": "python",
   "pygments_lexer": "ipython3",
   "version": "3.9.16"
  }
 },
 "nbformat": 4,
 "nbformat_minor": 5
}
